{
 "cells": [
  {
   "cell_type": "code",
   "id": "initial_id",
   "metadata": {
    "collapsed": true,
    "ExecuteTime": {
     "end_time": "2025-02-10T07:22:12.430325Z",
     "start_time": "2025-02-10T07:22:12.427584Z"
    }
   },
   "source": [
    "import pandas as pd\n",
    "import numpy as np\n",
    "import matplotlib.pyplot as plt\n",
    "from scipy import stats"
   ],
   "outputs": [],
   "execution_count": 1
  },
  {
   "metadata": {
    "ExecuteTime": {
     "end_time": "2025-02-10T07:22:15.249303Z",
     "start_time": "2025-02-10T07:22:12.430325Z"
    }
   },
   "cell_type": "code",
   "source": [
    "beforemilton = pd.read_excel('LIWC_BM.xlsx')\n",
    "aftermilton = pd.read_excel('LIWC_AM.xlsx')\n",
    "cc = pd.read_excel('LIWC_CC.xlsx')"
   ],
   "id": "53a13d2ec7b3a0a4",
   "outputs": [
    {
     "name": "stderr",
     "output_type": "stream",
     "text": [
      "C:\\Users\\alepa\\PycharmProjects\\pythonProject\\.venv\\Lib\\site-packages\\openpyxl\\styles\\stylesheet.py:237: UserWarning: Workbook contains no default style, apply openpyxl's default\n",
      "  warn(\"Workbook contains no default style, apply openpyxl's default\")\n",
      "C:\\Users\\alepa\\PycharmProjects\\pythonProject\\.venv\\Lib\\site-packages\\openpyxl\\styles\\stylesheet.py:237: UserWarning: Workbook contains no default style, apply openpyxl's default\n",
      "  warn(\"Workbook contains no default style, apply openpyxl's default\")\n"
     ]
    }
   ],
   "execution_count": 2
  },
  {
   "metadata": {
    "ExecuteTime": {
     "end_time": "2025-02-10T07:22:15.266583Z",
     "start_time": "2025-02-10T07:22:15.249303Z"
    }
   },
   "cell_type": "code",
   "source": "cc.head()",
   "id": "d7234ab80f091675",
   "outputs": [
    {
     "data": {
      "text/plain": [
       "   Source (A)                                         Source (B)  WC  \\\n",
       "0           0    love content have suggestion far research topic   7   \n",
       "1           1                        climate change use TOO MUCH   5   \n",
       "2           2                              last time reach ocean   4   \n",
       "3           3  need massive desalination plant major sw city ...  11   \n",
       "4           4                                          mind blow   2   \n",
       "\n",
       "   Analytic  Clout  Authentic   Tone   WPS  Sixltr    Dic  ...  Comma  Colon  \\\n",
       "0     68.29   99.0      13.15  99.00   7.0   42.86  71.43  ...    0.0    0.0   \n",
       "1     52.71   50.0      43.37  25.77   5.0   20.00  80.00  ...    0.0    0.0   \n",
       "2     93.26   50.0      99.00  25.77   4.0    0.00  50.00  ...    0.0    0.0   \n",
       "3     80.14   50.0       2.40  25.77  11.0   27.27  45.45  ...    0.0    0.0   \n",
       "4     93.26   50.0       1.00  25.77   2.0    0.00   0.00  ...    0.0    0.0   \n",
       "\n",
       "   SemiC  QMark  Exclam  Dash  Quote  Apostro  Parenth  OtherP  \n",
       "0      0      0     0.0     0    0.0      0.0      0.0     0.0  \n",
       "1      0      0     0.0     0    0.0      0.0      0.0     0.0  \n",
       "2      0      0     0.0     0    0.0      0.0      0.0     0.0  \n",
       "3      0      0     0.0     0    0.0      0.0      0.0     0.0  \n",
       "4      0      0     0.0     0    0.0      0.0      0.0     0.0  \n",
       "\n",
       "[5 rows x 95 columns]"
      ],
      "text/html": [
       "<div>\n",
       "<style scoped>\n",
       "    .dataframe tbody tr th:only-of-type {\n",
       "        vertical-align: middle;\n",
       "    }\n",
       "\n",
       "    .dataframe tbody tr th {\n",
       "        vertical-align: top;\n",
       "    }\n",
       "\n",
       "    .dataframe thead th {\n",
       "        text-align: right;\n",
       "    }\n",
       "</style>\n",
       "<table border=\"1\" class=\"dataframe\">\n",
       "  <thead>\n",
       "    <tr style=\"text-align: right;\">\n",
       "      <th></th>\n",
       "      <th>Source (A)</th>\n",
       "      <th>Source (B)</th>\n",
       "      <th>WC</th>\n",
       "      <th>Analytic</th>\n",
       "      <th>Clout</th>\n",
       "      <th>Authentic</th>\n",
       "      <th>Tone</th>\n",
       "      <th>WPS</th>\n",
       "      <th>Sixltr</th>\n",
       "      <th>Dic</th>\n",
       "      <th>...</th>\n",
       "      <th>Comma</th>\n",
       "      <th>Colon</th>\n",
       "      <th>SemiC</th>\n",
       "      <th>QMark</th>\n",
       "      <th>Exclam</th>\n",
       "      <th>Dash</th>\n",
       "      <th>Quote</th>\n",
       "      <th>Apostro</th>\n",
       "      <th>Parenth</th>\n",
       "      <th>OtherP</th>\n",
       "    </tr>\n",
       "  </thead>\n",
       "  <tbody>\n",
       "    <tr>\n",
       "      <th>0</th>\n",
       "      <td>0</td>\n",
       "      <td>love content have suggestion far research topic</td>\n",
       "      <td>7</td>\n",
       "      <td>68.29</td>\n",
       "      <td>99.0</td>\n",
       "      <td>13.15</td>\n",
       "      <td>99.00</td>\n",
       "      <td>7.0</td>\n",
       "      <td>42.86</td>\n",
       "      <td>71.43</td>\n",
       "      <td>...</td>\n",
       "      <td>0.0</td>\n",
       "      <td>0.0</td>\n",
       "      <td>0</td>\n",
       "      <td>0</td>\n",
       "      <td>0.0</td>\n",
       "      <td>0</td>\n",
       "      <td>0.0</td>\n",
       "      <td>0.0</td>\n",
       "      <td>0.0</td>\n",
       "      <td>0.0</td>\n",
       "    </tr>\n",
       "    <tr>\n",
       "      <th>1</th>\n",
       "      <td>1</td>\n",
       "      <td>climate change use TOO MUCH</td>\n",
       "      <td>5</td>\n",
       "      <td>52.71</td>\n",
       "      <td>50.0</td>\n",
       "      <td>43.37</td>\n",
       "      <td>25.77</td>\n",
       "      <td>5.0</td>\n",
       "      <td>20.00</td>\n",
       "      <td>80.00</td>\n",
       "      <td>...</td>\n",
       "      <td>0.0</td>\n",
       "      <td>0.0</td>\n",
       "      <td>0</td>\n",
       "      <td>0</td>\n",
       "      <td>0.0</td>\n",
       "      <td>0</td>\n",
       "      <td>0.0</td>\n",
       "      <td>0.0</td>\n",
       "      <td>0.0</td>\n",
       "      <td>0.0</td>\n",
       "    </tr>\n",
       "    <tr>\n",
       "      <th>2</th>\n",
       "      <td>2</td>\n",
       "      <td>last time reach ocean</td>\n",
       "      <td>4</td>\n",
       "      <td>93.26</td>\n",
       "      <td>50.0</td>\n",
       "      <td>99.00</td>\n",
       "      <td>25.77</td>\n",
       "      <td>4.0</td>\n",
       "      <td>0.00</td>\n",
       "      <td>50.00</td>\n",
       "      <td>...</td>\n",
       "      <td>0.0</td>\n",
       "      <td>0.0</td>\n",
       "      <td>0</td>\n",
       "      <td>0</td>\n",
       "      <td>0.0</td>\n",
       "      <td>0</td>\n",
       "      <td>0.0</td>\n",
       "      <td>0.0</td>\n",
       "      <td>0.0</td>\n",
       "      <td>0.0</td>\n",
       "    </tr>\n",
       "    <tr>\n",
       "      <th>3</th>\n",
       "      <td>3</td>\n",
       "      <td>need massive desalination plant major sw city ...</td>\n",
       "      <td>11</td>\n",
       "      <td>80.14</td>\n",
       "      <td>50.0</td>\n",
       "      <td>2.40</td>\n",
       "      <td>25.77</td>\n",
       "      <td>11.0</td>\n",
       "      <td>27.27</td>\n",
       "      <td>45.45</td>\n",
       "      <td>...</td>\n",
       "      <td>0.0</td>\n",
       "      <td>0.0</td>\n",
       "      <td>0</td>\n",
       "      <td>0</td>\n",
       "      <td>0.0</td>\n",
       "      <td>0</td>\n",
       "      <td>0.0</td>\n",
       "      <td>0.0</td>\n",
       "      <td>0.0</td>\n",
       "      <td>0.0</td>\n",
       "    </tr>\n",
       "    <tr>\n",
       "      <th>4</th>\n",
       "      <td>4</td>\n",
       "      <td>mind blow</td>\n",
       "      <td>2</td>\n",
       "      <td>93.26</td>\n",
       "      <td>50.0</td>\n",
       "      <td>1.00</td>\n",
       "      <td>25.77</td>\n",
       "      <td>2.0</td>\n",
       "      <td>0.00</td>\n",
       "      <td>0.00</td>\n",
       "      <td>...</td>\n",
       "      <td>0.0</td>\n",
       "      <td>0.0</td>\n",
       "      <td>0</td>\n",
       "      <td>0</td>\n",
       "      <td>0.0</td>\n",
       "      <td>0</td>\n",
       "      <td>0.0</td>\n",
       "      <td>0.0</td>\n",
       "      <td>0.0</td>\n",
       "      <td>0.0</td>\n",
       "    </tr>\n",
       "  </tbody>\n",
       "</table>\n",
       "<p>5 rows × 95 columns</p>\n",
       "</div>"
      ]
     },
     "execution_count": 3,
     "metadata": {},
     "output_type": "execute_result"
    }
   ],
   "execution_count": 3
  },
  {
   "metadata": {
    "ExecuteTime": {
     "end_time": "2025-02-10T07:22:15.276968Z",
     "start_time": "2025-02-10T07:22:15.266583Z"
    }
   },
   "cell_type": "code",
   "source": [
    "for columns in cc.columns[2:]:\n",
    "    print(f'{columns}: {np.mean(cc[columns])}')"
   ],
   "id": "f64943ecf241578e",
   "outputs": [
    {
     "name": "stdout",
     "output_type": "stream",
     "text": [
      "WC: 5.967105263157895\n",
      "Analytic: 66.99368647912885\n",
      "Clout: 59.49631805807623\n",
      "Authentic: 43.535315335753175\n",
      "Tone: 41.11680127041742\n",
      "WPS: 5.959165154264973\n",
      "Sixltr: 21.318493647912884\n",
      "Dic: 70.12456896551724\n",
      "function: 12.67429219600726\n",
      "pronoun: 1.0335821234119782\n",
      "ppron: 0.3949228675136116\n",
      "i: 0.1562568058076225\n",
      "we: 0.0911320326678766\n",
      "you: 0.1403539019963702\n",
      "shehe: 0.0056715063520871144\n",
      "they: 0.0015131578947368421\n",
      "ipron: 0.6284981851179673\n",
      "article: 0.018055807622504538\n",
      "prep: 0.6578448275862069\n",
      "auxverb: 3.2925317604355717\n",
      "adverb: 7.33676724137931\n",
      "conj: 2.042214156079855\n",
      "negate: 0.4294078947368421\n",
      "verb: 17.872082577132485\n",
      "adj: 7.459019963702359\n",
      "compare: 1.3380444646098004\n",
      "interrog: 0.01494328493647913\n",
      "number: 0.7668421052631579\n",
      "quant: 1.9098729582577132\n",
      "affect: 12.424142468239564\n",
      "posemo: 8.34720281306715\n",
      "negemo: 4.011086660617059\n",
      "anx: 0.6693920145190563\n",
      "anger: 0.5576633393829402\n",
      "sad: 1.1116197822141562\n",
      "social: 8.027949183303084\n",
      "family: 0.8477223230490019\n",
      "friend: 0.45494555353902\n",
      "female: 0.4383098911070781\n",
      "male: 1.19010889292196\n",
      "cogproc: 11.359584845735027\n",
      "insight: 3.747490925589837\n",
      "cause: 2.153854355716878\n",
      "discrep: 1.380233666061706\n",
      "tentat: 1.527788112522686\n",
      "certain: 2.221329401088929\n",
      "differ: 0.9843035390199636\n",
      "percept: 5.558983666061706\n",
      "see: 2.116701451905626\n",
      "hear: 1.7427495462794917\n",
      "feel: 1.3548185117967333\n",
      "bio: 3.560757713248639\n",
      "body: 0.7566197822141559\n",
      "health: 0.9329469147005446\n",
      "sexual: 0.0604106170598911\n",
      "ingest: 1.2687431941923775\n",
      "drives: 11.259655172413792\n",
      "affiliation: 2.2673752268602536\n",
      "achieve: 1.813436932849365\n",
      "power: 4.306515426497278\n",
      "reward: 2.22766333938294\n",
      "risk: 1.582372958257713\n",
      "focuspast: 0.49188747731397464\n",
      "focuspresent: 17.919083484573505\n",
      "focusfuture: 0.9625476406533575\n",
      "relativ: 16.107633847549906\n",
      "motion: 3.7169782214156086\n",
      "space: 4.937779038112523\n",
      "time: 7.574877495462794\n",
      "work: 3.309448729582577\n",
      "leisure: 2.071336206896552\n",
      "home: 0.7747481851179674\n",
      "money: 1.7006352087114338\n",
      "relig: 1.4315426497277677\n",
      "death: 0.3925499092558983\n",
      "informal: 2.8236978221415607\n",
      "swear: 0.28818058076225045\n",
      "netspeak: 1.3339519056261342\n",
      "assent: 0.6441243194192378\n",
      "nonflu: 0.3104764065335753\n",
      "filler: 0.1250453720508167\n",
      "AllPunc: 1.8611184210526315\n",
      "Period: 0.20225499092558982\n",
      "Comma: 0.0020621597096188746\n",
      "Colon: 0.0020621597096188746\n",
      "SemiC: 0.0\n",
      "QMark: 0.0\n",
      "Exclam: 0.02520644283121597\n",
      "Dash: 0.0\n",
      "Quote: 0.007184664246823957\n",
      "Apostro: 1.2301996370235933\n",
      "Parenth: 0.006048094373865699\n",
      "OtherP: 0.3860980036297641\n"
     ]
    }
   ],
   "execution_count": 4
  },
  {
   "metadata": {
    "ExecuteTime": {
     "end_time": "2025-02-10T07:22:15.283737Z",
     "start_time": "2025-02-10T07:22:15.276968Z"
    }
   },
   "cell_type": "code",
   "source": [
    "for columns in beforemilton.columns[2:]:\n",
    "    print(f'{columns}: {np.mean(cc[columns])}')"
   ],
   "id": "7801722fab052a30",
   "outputs": [
    {
     "name": "stdout",
     "output_type": "stream",
     "text": [
      "WC: 5.967105263157895\n",
      "Analytic: 66.99368647912885\n",
      "Clout: 59.49631805807623\n",
      "Authentic: 43.535315335753175\n",
      "Tone: 41.11680127041742\n",
      "WPS: 5.959165154264973\n",
      "Sixltr: 21.318493647912884\n",
      "Dic: 70.12456896551724\n",
      "function: 12.67429219600726\n",
      "pronoun: 1.0335821234119782\n",
      "ppron: 0.3949228675136116\n",
      "i: 0.1562568058076225\n",
      "we: 0.0911320326678766\n",
      "you: 0.1403539019963702\n",
      "shehe: 0.0056715063520871144\n",
      "they: 0.0015131578947368421\n",
      "ipron: 0.6284981851179673\n",
      "article: 0.018055807622504538\n",
      "prep: 0.6578448275862069\n",
      "auxverb: 3.2925317604355717\n",
      "adverb: 7.33676724137931\n",
      "conj: 2.042214156079855\n",
      "negate: 0.4294078947368421\n",
      "verb: 17.872082577132485\n",
      "adj: 7.459019963702359\n",
      "compare: 1.3380444646098004\n",
      "interrog: 0.01494328493647913\n",
      "number: 0.7668421052631579\n",
      "quant: 1.9098729582577132\n",
      "affect: 12.424142468239564\n",
      "posemo: 8.34720281306715\n",
      "negemo: 4.011086660617059\n",
      "anx: 0.6693920145190563\n",
      "anger: 0.5576633393829402\n",
      "sad: 1.1116197822141562\n",
      "social: 8.027949183303084\n",
      "family: 0.8477223230490019\n",
      "friend: 0.45494555353902\n",
      "female: 0.4383098911070781\n",
      "male: 1.19010889292196\n",
      "cogproc: 11.359584845735027\n",
      "insight: 3.747490925589837\n",
      "cause: 2.153854355716878\n",
      "discrep: 1.380233666061706\n",
      "tentat: 1.527788112522686\n",
      "certain: 2.221329401088929\n",
      "differ: 0.9843035390199636\n",
      "percept: 5.558983666061706\n",
      "see: 2.116701451905626\n",
      "hear: 1.7427495462794917\n",
      "feel: 1.3548185117967333\n",
      "bio: 3.560757713248639\n",
      "body: 0.7566197822141559\n",
      "health: 0.9329469147005446\n",
      "sexual: 0.0604106170598911\n",
      "ingest: 1.2687431941923775\n",
      "drives: 11.259655172413792\n",
      "affiliation: 2.2673752268602536\n",
      "achieve: 1.813436932849365\n",
      "power: 4.306515426497278\n",
      "reward: 2.22766333938294\n",
      "risk: 1.582372958257713\n",
      "focuspast: 0.49188747731397464\n",
      "focuspresent: 17.919083484573505\n",
      "focusfuture: 0.9625476406533575\n",
      "relativ: 16.107633847549906\n",
      "motion: 3.7169782214156086\n",
      "space: 4.937779038112523\n",
      "time: 7.574877495462794\n",
      "work: 3.309448729582577\n",
      "leisure: 2.071336206896552\n",
      "home: 0.7747481851179674\n",
      "money: 1.7006352087114338\n",
      "relig: 1.4315426497277677\n",
      "death: 0.3925499092558983\n",
      "informal: 2.8236978221415607\n",
      "swear: 0.28818058076225045\n",
      "netspeak: 1.3339519056261342\n",
      "assent: 0.6441243194192378\n",
      "nonflu: 0.3104764065335753\n",
      "filler: 0.1250453720508167\n",
      "AllPunc: 1.8611184210526315\n",
      "Period: 0.20225499092558982\n",
      "Comma: 0.0020621597096188746\n",
      "Colon: 0.0020621597096188746\n",
      "SemiC: 0.0\n",
      "QMark: 0.0\n",
      "Exclam: 0.02520644283121597\n",
      "Dash: 0.0\n",
      "Quote: 0.007184664246823957\n",
      "Apostro: 1.2301996370235933\n",
      "Parenth: 0.006048094373865699\n",
      "OtherP: 0.3860980036297641\n"
     ]
    }
   ],
   "execution_count": 5
  },
  {
   "metadata": {
    "ExecuteTime": {
     "end_time": "2025-02-10T07:22:15.291161Z",
     "start_time": "2025-02-10T07:22:15.284748Z"
    }
   },
   "cell_type": "code",
   "source": [
    "for columns in aftermilton.columns[2:]:\n",
    "    print(f'{columns}: {np.mean(cc[columns])}')"
   ],
   "id": "c4f3fe5ad05fe4e8",
   "outputs": [
    {
     "name": "stdout",
     "output_type": "stream",
     "text": [
      "WC: 5.967105263157895\n",
      "Analytic: 66.99368647912885\n",
      "Clout: 59.49631805807623\n",
      "Authentic: 43.535315335753175\n",
      "Tone: 41.11680127041742\n",
      "WPS: 5.959165154264973\n",
      "Sixltr: 21.318493647912884\n",
      "Dic: 70.12456896551724\n",
      "function: 12.67429219600726\n",
      "pronoun: 1.0335821234119782\n",
      "ppron: 0.3949228675136116\n",
      "i: 0.1562568058076225\n",
      "we: 0.0911320326678766\n",
      "you: 0.1403539019963702\n",
      "shehe: 0.0056715063520871144\n",
      "they: 0.0015131578947368421\n",
      "ipron: 0.6284981851179673\n",
      "article: 0.018055807622504538\n",
      "prep: 0.6578448275862069\n",
      "auxverb: 3.2925317604355717\n",
      "adverb: 7.33676724137931\n",
      "conj: 2.042214156079855\n",
      "negate: 0.4294078947368421\n",
      "verb: 17.872082577132485\n",
      "adj: 7.459019963702359\n",
      "compare: 1.3380444646098004\n",
      "interrog: 0.01494328493647913\n",
      "number: 0.7668421052631579\n",
      "quant: 1.9098729582577132\n",
      "affect: 12.424142468239564\n",
      "posemo: 8.34720281306715\n",
      "negemo: 4.011086660617059\n",
      "anx: 0.6693920145190563\n",
      "anger: 0.5576633393829402\n",
      "sad: 1.1116197822141562\n",
      "social: 8.027949183303084\n",
      "family: 0.8477223230490019\n",
      "friend: 0.45494555353902\n",
      "female: 0.4383098911070781\n",
      "male: 1.19010889292196\n",
      "cogproc: 11.359584845735027\n",
      "insight: 3.747490925589837\n",
      "cause: 2.153854355716878\n",
      "discrep: 1.380233666061706\n",
      "tentat: 1.527788112522686\n",
      "certain: 2.221329401088929\n",
      "differ: 0.9843035390199636\n",
      "percept: 5.558983666061706\n",
      "see: 2.116701451905626\n",
      "hear: 1.7427495462794917\n",
      "feel: 1.3548185117967333\n",
      "bio: 3.560757713248639\n",
      "body: 0.7566197822141559\n",
      "health: 0.9329469147005446\n",
      "sexual: 0.0604106170598911\n",
      "ingest: 1.2687431941923775\n",
      "drives: 11.259655172413792\n",
      "affiliation: 2.2673752268602536\n",
      "achieve: 1.813436932849365\n",
      "power: 4.306515426497278\n",
      "reward: 2.22766333938294\n",
      "risk: 1.582372958257713\n",
      "focuspast: 0.49188747731397464\n",
      "focuspresent: 17.919083484573505\n",
      "focusfuture: 0.9625476406533575\n",
      "relativ: 16.107633847549906\n",
      "motion: 3.7169782214156086\n",
      "space: 4.937779038112523\n",
      "time: 7.574877495462794\n",
      "work: 3.309448729582577\n",
      "leisure: 2.071336206896552\n",
      "home: 0.7747481851179674\n",
      "money: 1.7006352087114338\n",
      "relig: 1.4315426497277677\n",
      "death: 0.3925499092558983\n",
      "informal: 2.8236978221415607\n",
      "swear: 0.28818058076225045\n",
      "netspeak: 1.3339519056261342\n",
      "assent: 0.6441243194192378\n",
      "nonflu: 0.3104764065335753\n",
      "filler: 0.1250453720508167\n",
      "AllPunc: 1.8611184210526315\n",
      "Period: 0.20225499092558982\n",
      "Comma: 0.0020621597096188746\n",
      "Colon: 0.0020621597096188746\n",
      "SemiC: 0.0\n",
      "QMark: 0.0\n",
      "Exclam: 0.02520644283121597\n",
      "Dash: 0.0\n",
      "Quote: 0.007184664246823957\n",
      "Apostro: 1.2301996370235933\n",
      "Parenth: 0.006048094373865699\n",
      "OtherP: 0.3860980036297641\n"
     ]
    }
   ],
   "execution_count": 6
  },
  {
   "metadata": {},
   "cell_type": "markdown",
   "source": "--------------- ",
   "id": "daa97be8bcc27a40"
  },
  {
   "metadata": {
    "ExecuteTime": {
     "end_time": "2025-02-10T07:22:15.294380Z",
     "start_time": "2025-02-10T07:22:15.291161Z"
    }
   },
   "cell_type": "code",
   "source": [
    "useful_metrics = {\n",
    "        'Fear': ['anx', 'negemo', 'risk', 'death', 'bio', 'body'],\n",
    "        'Threat': ['negemo', 'anger', 'power', 'risk', 'death', 'health', 'discrep']}"
   ],
   "id": "61ba4f350e3c5e5a",
   "outputs": [],
   "execution_count": 7
  },
  {
   "metadata": {
    "ExecuteTime": {
     "end_time": "2025-02-10T07:22:15.300928Z",
     "start_time": "2025-02-10T07:22:15.294380Z"
    }
   },
   "cell_type": "code",
   "source": [
    "def extract(liwc_df):\n",
    "    # mean values for each metric\n",
    "    summary_dict = {}\n",
    "    for category, metrics in useful_metrics.items():\n",
    "        summary_dict[category] = {metric: liwc_df[metric].mean() for metric in metrics if metric in liwc_df.columns}\n",
    "    \n",
    "    # dict to DataFrame\n",
    "    summary_df = pd.DataFrame.from_dict(summary_dict, orient='index')\n",
    "    return summary_df"
   ],
   "id": "6a79a946de4c2632",
   "outputs": [],
   "execution_count": 8
  },
  {
   "metadata": {
    "ExecuteTime": {
     "end_time": "2025-02-10T07:22:15.311282Z",
     "start_time": "2025-02-10T07:22:15.300928Z"
    }
   },
   "cell_type": "code",
   "source": [
    "extracted_bm = extract(beforemilton)\n",
    "extracted_am = extract(aftermilton)\n",
    "extracted_cc = extract(cc)"
   ],
   "id": "97ce41e5d34d1955",
   "outputs": [],
   "execution_count": 9
  },
  {
   "metadata": {
    "ExecuteTime": {
     "end_time": "2025-02-10T07:22:15.321828Z",
     "start_time": "2025-02-10T07:22:15.312289Z"
    }
   },
   "cell_type": "code",
   "source": "extracted_bm",
   "id": "d2a48acb84b08f3b",
   "outputs": [
    {
     "data": {
      "text/plain": [
       "             anx    negemo      risk  death       bio      body     anger  \\\n",
       "Fear    0.067544  1.488246  0.699474    0.0  1.293158  0.390877       NaN   \n",
       "Threat       NaN  1.488246  0.699474    0.0       NaN       NaN  0.242982   \n",
       "\n",
       "           power    health   discrep  \n",
       "Fear         NaN       NaN       NaN  \n",
       "Threat  3.008421  0.491228  1.734211  "
      ],
      "text/html": [
       "<div>\n",
       "<style scoped>\n",
       "    .dataframe tbody tr th:only-of-type {\n",
       "        vertical-align: middle;\n",
       "    }\n",
       "\n",
       "    .dataframe tbody tr th {\n",
       "        vertical-align: top;\n",
       "    }\n",
       "\n",
       "    .dataframe thead th {\n",
       "        text-align: right;\n",
       "    }\n",
       "</style>\n",
       "<table border=\"1\" class=\"dataframe\">\n",
       "  <thead>\n",
       "    <tr style=\"text-align: right;\">\n",
       "      <th></th>\n",
       "      <th>anx</th>\n",
       "      <th>negemo</th>\n",
       "      <th>risk</th>\n",
       "      <th>death</th>\n",
       "      <th>bio</th>\n",
       "      <th>body</th>\n",
       "      <th>anger</th>\n",
       "      <th>power</th>\n",
       "      <th>health</th>\n",
       "      <th>discrep</th>\n",
       "    </tr>\n",
       "  </thead>\n",
       "  <tbody>\n",
       "    <tr>\n",
       "      <th>Fear</th>\n",
       "      <td>0.067544</td>\n",
       "      <td>1.488246</td>\n",
       "      <td>0.699474</td>\n",
       "      <td>0.0</td>\n",
       "      <td>1.293158</td>\n",
       "      <td>0.390877</td>\n",
       "      <td>NaN</td>\n",
       "      <td>NaN</td>\n",
       "      <td>NaN</td>\n",
       "      <td>NaN</td>\n",
       "    </tr>\n",
       "    <tr>\n",
       "      <th>Threat</th>\n",
       "      <td>NaN</td>\n",
       "      <td>1.488246</td>\n",
       "      <td>0.699474</td>\n",
       "      <td>0.0</td>\n",
       "      <td>NaN</td>\n",
       "      <td>NaN</td>\n",
       "      <td>0.242982</td>\n",
       "      <td>3.008421</td>\n",
       "      <td>0.491228</td>\n",
       "      <td>1.734211</td>\n",
       "    </tr>\n",
       "  </tbody>\n",
       "</table>\n",
       "</div>"
      ]
     },
     "execution_count": 10,
     "metadata": {},
     "output_type": "execute_result"
    }
   ],
   "execution_count": 10
  },
  {
   "metadata": {
    "ExecuteTime": {
     "end_time": "2025-02-10T07:22:15.332156Z",
     "start_time": "2025-02-10T07:22:15.321828Z"
    }
   },
   "cell_type": "code",
   "source": "extracted_am",
   "id": "2deecf5ada97486a",
   "outputs": [
    {
     "data": {
      "text/plain": [
       "             anx   negemo     risk     death       bio      body     anger  \\\n",
       "Fear    0.402462  5.07003  1.38039  0.055255  2.179159  1.140841       NaN   \n",
       "Threat       NaN  5.07003  1.38039  0.055255       NaN       NaN  0.232883   \n",
       "\n",
       "           power    health   discrep  \n",
       "Fear         NaN       NaN       NaN  \n",
       "Threat  4.128408  0.687958  0.938108  "
      ],
      "text/html": [
       "<div>\n",
       "<style scoped>\n",
       "    .dataframe tbody tr th:only-of-type {\n",
       "        vertical-align: middle;\n",
       "    }\n",
       "\n",
       "    .dataframe tbody tr th {\n",
       "        vertical-align: top;\n",
       "    }\n",
       "\n",
       "    .dataframe thead th {\n",
       "        text-align: right;\n",
       "    }\n",
       "</style>\n",
       "<table border=\"1\" class=\"dataframe\">\n",
       "  <thead>\n",
       "    <tr style=\"text-align: right;\">\n",
       "      <th></th>\n",
       "      <th>anx</th>\n",
       "      <th>negemo</th>\n",
       "      <th>risk</th>\n",
       "      <th>death</th>\n",
       "      <th>bio</th>\n",
       "      <th>body</th>\n",
       "      <th>anger</th>\n",
       "      <th>power</th>\n",
       "      <th>health</th>\n",
       "      <th>discrep</th>\n",
       "    </tr>\n",
       "  </thead>\n",
       "  <tbody>\n",
       "    <tr>\n",
       "      <th>Fear</th>\n",
       "      <td>0.402462</td>\n",
       "      <td>5.07003</td>\n",
       "      <td>1.38039</td>\n",
       "      <td>0.055255</td>\n",
       "      <td>2.179159</td>\n",
       "      <td>1.140841</td>\n",
       "      <td>NaN</td>\n",
       "      <td>NaN</td>\n",
       "      <td>NaN</td>\n",
       "      <td>NaN</td>\n",
       "    </tr>\n",
       "    <tr>\n",
       "      <th>Threat</th>\n",
       "      <td>NaN</td>\n",
       "      <td>5.07003</td>\n",
       "      <td>1.38039</td>\n",
       "      <td>0.055255</td>\n",
       "      <td>NaN</td>\n",
       "      <td>NaN</td>\n",
       "      <td>0.232883</td>\n",
       "      <td>4.128408</td>\n",
       "      <td>0.687958</td>\n",
       "      <td>0.938108</td>\n",
       "    </tr>\n",
       "  </tbody>\n",
       "</table>\n",
       "</div>"
      ]
     },
     "execution_count": 11,
     "metadata": {},
     "output_type": "execute_result"
    }
   ],
   "execution_count": 11
  },
  {
   "metadata": {
    "ExecuteTime": {
     "end_time": "2025-02-10T07:22:15.342462Z",
     "start_time": "2025-02-10T07:22:15.332156Z"
    }
   },
   "cell_type": "code",
   "source": "extracted_cc",
   "id": "93445e9d14e8843a",
   "outputs": [
    {
     "data": {
      "text/plain": [
       "             anx    negemo      risk    death       bio     body     anger  \\\n",
       "Fear    0.669392  4.011087  1.582373  0.39255  3.560758  0.75662       NaN   \n",
       "Threat       NaN  4.011087  1.582373  0.39255       NaN      NaN  0.557663   \n",
       "\n",
       "           power    health   discrep  \n",
       "Fear         NaN       NaN       NaN  \n",
       "Threat  4.306515  0.932947  1.380234  "
      ],
      "text/html": [
       "<div>\n",
       "<style scoped>\n",
       "    .dataframe tbody tr th:only-of-type {\n",
       "        vertical-align: middle;\n",
       "    }\n",
       "\n",
       "    .dataframe tbody tr th {\n",
       "        vertical-align: top;\n",
       "    }\n",
       "\n",
       "    .dataframe thead th {\n",
       "        text-align: right;\n",
       "    }\n",
       "</style>\n",
       "<table border=\"1\" class=\"dataframe\">\n",
       "  <thead>\n",
       "    <tr style=\"text-align: right;\">\n",
       "      <th></th>\n",
       "      <th>anx</th>\n",
       "      <th>negemo</th>\n",
       "      <th>risk</th>\n",
       "      <th>death</th>\n",
       "      <th>bio</th>\n",
       "      <th>body</th>\n",
       "      <th>anger</th>\n",
       "      <th>power</th>\n",
       "      <th>health</th>\n",
       "      <th>discrep</th>\n",
       "    </tr>\n",
       "  </thead>\n",
       "  <tbody>\n",
       "    <tr>\n",
       "      <th>Fear</th>\n",
       "      <td>0.669392</td>\n",
       "      <td>4.011087</td>\n",
       "      <td>1.582373</td>\n",
       "      <td>0.39255</td>\n",
       "      <td>3.560758</td>\n",
       "      <td>0.75662</td>\n",
       "      <td>NaN</td>\n",
       "      <td>NaN</td>\n",
       "      <td>NaN</td>\n",
       "      <td>NaN</td>\n",
       "    </tr>\n",
       "    <tr>\n",
       "      <th>Threat</th>\n",
       "      <td>NaN</td>\n",
       "      <td>4.011087</td>\n",
       "      <td>1.582373</td>\n",
       "      <td>0.39255</td>\n",
       "      <td>NaN</td>\n",
       "      <td>NaN</td>\n",
       "      <td>0.557663</td>\n",
       "      <td>4.306515</td>\n",
       "      <td>0.932947</td>\n",
       "      <td>1.380234</td>\n",
       "    </tr>\n",
       "  </tbody>\n",
       "</table>\n",
       "</div>"
      ]
     },
     "execution_count": 12,
     "metadata": {},
     "output_type": "execute_result"
    }
   ],
   "execution_count": 12
  },
  {
   "metadata": {
    "ExecuteTime": {
     "end_time": "2025-02-10T07:22:15.344968Z",
     "start_time": "2025-02-10T07:22:15.342462Z"
    }
   },
   "cell_type": "code",
   "source": "",
   "id": "eae50c62a2ead752",
   "outputs": [],
   "execution_count": 12
  },
  {
   "metadata": {},
   "cell_type": "markdown",
   "source": "",
   "id": "8919499c55d4b3a"
  },
  {
   "metadata": {},
   "cell_type": "markdown",
   "source": "",
   "id": "fad131bbb81ae6d2"
  },
  {
   "metadata": {
    "ExecuteTime": {
     "end_time": "2025-02-10T07:22:15.348654Z",
     "start_time": "2025-02-10T07:22:15.344968Z"
    }
   },
   "cell_type": "code",
   "source": [
    "def metrics(liwc_df):\n",
    "    summary_dict = {}\n",
    "    for category, metrics in useful_metrics.items():\n",
    "        summary_dict[category] = {metric: liwc_df[metric].mean() for metric in metrics if metric in liwc_df.columns}\n",
    "    \n",
    "    summary_df = pd.DataFrame.from_dict(summary_dict, orient='index')\n",
    "    return summary_df.mean(axis=1)\n"
   ],
   "id": "b8c77c1831bf839e",
   "outputs": [],
   "execution_count": 13
  },
  {
   "metadata": {
    "ExecuteTime": {
     "end_time": "2025-02-10T07:22:15.357476Z",
     "start_time": "2025-02-10T07:22:15.348654Z"
    }
   },
   "cell_type": "code",
   "source": "metrics(beforemilton)",
   "id": "5a5e988a6dec60cf",
   "outputs": [
    {
     "data": {
      "text/plain": [
       "Fear      0.656550\n",
       "Threat    1.094937\n",
       "dtype: float64"
      ]
     },
     "execution_count": 14,
     "metadata": {},
     "output_type": "execute_result"
    }
   ],
   "execution_count": 14
  },
  {
   "metadata": {
    "ExecuteTime": {
     "end_time": "2025-02-10T07:22:15.365632Z",
     "start_time": "2025-02-10T07:22:15.357476Z"
    }
   },
   "cell_type": "code",
   "source": "metrics(aftermilton)",
   "id": "7cc885baa5ea781f",
   "outputs": [
    {
     "data": {
      "text/plain": [
       "Fear      1.704690\n",
       "Threat    1.784719\n",
       "dtype: float64"
      ]
     },
     "execution_count": 15,
     "metadata": {},
     "output_type": "execute_result"
    }
   ],
   "execution_count": 15
  },
  {
   "metadata": {
    "ExecuteTime": {
     "end_time": "2025-02-10T07:22:15.373661Z",
     "start_time": "2025-02-10T07:22:15.365632Z"
    }
   },
   "cell_type": "code",
   "source": "metrics(cc)",
   "id": "8ea8de88a978c128",
   "outputs": [
    {
     "data": {
      "text/plain": [
       "Fear      1.828797\n",
       "Threat    1.880481\n",
       "dtype: float64"
      ]
     },
     "execution_count": 16,
     "metadata": {},
     "output_type": "execute_result"
    }
   ],
   "execution_count": 16
  },
  {
   "metadata": {
    "ExecuteTime": {
     "end_time": "2025-02-10T07:22:15.375877Z",
     "start_time": "2025-02-10T07:22:15.373661Z"
    }
   },
   "cell_type": "code",
   "source": "",
   "id": "3adcb006f9317b54",
   "outputs": [],
   "execution_count": 16
  }
 ],
 "metadata": {
  "kernelspec": {
   "display_name": "Python 3",
   "language": "python",
   "name": "python3"
  },
  "language_info": {
   "codemirror_mode": {
    "name": "ipython",
    "version": 2
   },
   "file_extension": ".py",
   "mimetype": "text/x-python",
   "name": "python",
   "nbconvert_exporter": "python",
   "pygments_lexer": "ipython2",
   "version": "2.7.6"
  }
 },
 "nbformat": 4,
 "nbformat_minor": 5
}
