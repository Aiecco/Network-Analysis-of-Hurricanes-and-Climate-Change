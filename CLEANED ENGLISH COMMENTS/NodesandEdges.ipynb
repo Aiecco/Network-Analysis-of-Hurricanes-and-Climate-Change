{
  "cells": [
    {
      "cell_type": "code",
      "source": [
        "import pandas as pd\n",
        "import numpy as np\n",
        "import re\n",
        "import string\n",
        "import time\n",
        "from bs4 import BeautifulSoup\n",
        "import spacy\n",
        "nlp = spacy.load('en_core_web_sm')\n",
        "from scipy.sparse import csr_matrix\n",
        "import scipy.sparse as sps\n",
        "import matplotlib.pyplot as plt\n",
        "!pip install leidenalg # this is the Louvain version we use!!!!\n",
        "import leidenalg\n",
        "import igraph as ig\n",
        "import pickle\n",
        "from IPython.display import HTML\n",
        "import matplotlib as mpl\n",
        "import matplotlib.cm\n",
        "!pip install umap-learn\n",
        "import umap\n",
        "import seaborn as sns\n",
        "import itertools\n",
        "import networkx as nx\n",
        "from collections import Counter"
      ],
      "metadata": {
        "id": "pwL9KcrOTLkd",
        "colab": {
          "base_uri": "https://localhost:8080/"
        },
        "outputId": "638fff7d-cae5-4571-c596-a82c692ea4aa"
      },
      "execution_count": 141,
      "outputs": [
        {
          "output_type": "stream",
          "name": "stderr",
          "text": [
            "/usr/local/lib/python3.11/dist-packages/spacy/util.py:1740: UserWarning: [W111] Jupyter notebook detected: if using `prefer_gpu()` or `require_gpu()`, include it in the same cell right before `spacy.load()` to ensure that the model is loaded on the correct device. More information: http://spacy.io/usage/v3#jupyter-notebook-gpu\n",
            "  warnings.warn(Warnings.W111)\n"
          ]
        },
        {
          "output_type": "stream",
          "name": "stdout",
          "text": [
            "Requirement already satisfied: leidenalg in /usr/local/lib/python3.11/dist-packages (0.10.2)\n",
            "Requirement already satisfied: igraph<0.12,>=0.10.0 in /usr/local/lib/python3.11/dist-packages (from leidenalg) (0.11.8)\n",
            "Requirement already satisfied: texttable>=1.6.2 in /usr/local/lib/python3.11/dist-packages (from igraph<0.12,>=0.10.0->leidenalg) (1.7.0)\n",
            "Requirement already satisfied: umap-learn in /usr/local/lib/python3.11/dist-packages (0.5.7)\n",
            "Requirement already satisfied: numpy>=1.17 in /usr/local/lib/python3.11/dist-packages (from umap-learn) (1.26.4)\n",
            "Requirement already satisfied: scipy>=1.3.1 in /usr/local/lib/python3.11/dist-packages (from umap-learn) (1.13.1)\n",
            "Requirement already satisfied: scikit-learn>=0.22 in /usr/local/lib/python3.11/dist-packages (from umap-learn) (1.6.1)\n",
            "Requirement already satisfied: numba>=0.51.2 in /usr/local/lib/python3.11/dist-packages (from umap-learn) (0.60.0)\n",
            "Requirement already satisfied: pynndescent>=0.5 in /usr/local/lib/python3.11/dist-packages (from umap-learn) (0.5.13)\n",
            "Requirement already satisfied: tqdm in /usr/local/lib/python3.11/dist-packages (from umap-learn) (4.67.1)\n",
            "Requirement already satisfied: llvmlite<0.44,>=0.43.0dev0 in /usr/local/lib/python3.11/dist-packages (from numba>=0.51.2->umap-learn) (0.43.0)\n",
            "Requirement already satisfied: joblib>=0.11 in /usr/local/lib/python3.11/dist-packages (from pynndescent>=0.5->umap-learn) (1.4.2)\n",
            "Requirement already satisfied: threadpoolctl>=3.1.0 in /usr/local/lib/python3.11/dist-packages (from scikit-learn>=0.22->umap-learn) (3.5.0)\n"
          ]
        }
      ]
    },
    {
      "cell_type": "code",
      "source": [
        "from itertools import combinations\n",
        "from collections import Counter"
      ],
      "metadata": {
        "id": "PtKZ5amS-j6E"
      },
      "execution_count": 153,
      "outputs": []
    },
    {
      "cell_type": "code",
      "source": [
        "BeforeMilton = pd.read_csv('cc_BeforeMilton.csv')[\"cleaned_text\"].tolist()\n",
        "AfterMilton = pd.read_csv('cc_AfterMilton.csv')[\"cleaned_text\"].tolist()\n",
        "\n",
        "BeforeIdalia = pd.read_csv('cc_BeforeIdalia.csv')[\"cleaned_text\"].tolist()\n",
        "AfterIdalia = pd.read_csv('cc_AfterIdalia.csv')[\"cleaned_text\"].tolist()\n",
        "\n",
        "BeforeIan = pd.read_csv('cc_BeforeIan.csv')[\"cleaned_text\"].tolist()\n",
        "AfterIan = pd.read_csv('cc_AfterIan.csv')[\"cleaned_text\"].tolist()"
      ],
      "metadata": {
        "id": "tg5XuYW6_KoI"
      },
      "execution_count": 147,
      "outputs": []
    },
    {
      "cell_type": "code",
      "source": [
        "nodes = set()\n",
        "edges = []"
      ],
      "metadata": {
        "id": "7dl7eLj5D_EK"
      },
      "execution_count": 150,
      "outputs": []
    },
    {
      "cell_type": "code",
      "source": [
        "for sentence in BeforeMilton:\n",
        "    doc = nlp(sentence)\n",
        "\n",
        "    # Extract entities as nodes\n",
        "    entities = {ent.text for ent in doc.ents}\n",
        "    nodes.update(entities)\n",
        "\n",
        "    # Create relationships between entities in the same sentence\n",
        "    for pair in combinations(entities, 2):\n",
        "        edges.append((pair[0], pair[1], \"related\"))"
      ],
      "metadata": {
        "id": "fWl-gwIgEvLV"
      },
      "execution_count": 154,
      "outputs": []
    },
    {
      "cell_type": "code",
      "source": [
        "nodes = pd.DataFrame({\"node\": list(nodes)})\n",
        "edges = pd.DataFrame(edges, columns=[\"source\", \"target\", \"relationship\"])"
      ],
      "metadata": {
        "id": "czv6TshRExCG"
      },
      "execution_count": 155,
      "outputs": []
    },
    {
      "cell_type": "code",
      "source": [
        "pd.to_csv(nodes, \"nodes.csv\")\n",
        "pd.to_csv(edges, \"edges.csv\")"
      ],
      "metadata": {
        "id": "Gsb2aVA_E-T6"
      },
      "execution_count": null,
      "outputs": []
    }
  ],
  "metadata": {
    "colab": {
      "gpuType": "T4",
      "provenance": []
    },
    "kernelspec": {
      "display_name": "Python 3",
      "name": "python3"
    },
    "language_info": {
      "name": "python"
    },
    "accelerator": "GPU"
  },
  "nbformat": 4,
  "nbformat_minor": 0
}